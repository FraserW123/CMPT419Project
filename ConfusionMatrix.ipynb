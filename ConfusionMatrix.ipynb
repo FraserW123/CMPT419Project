{
  "nbformat": 4,
  "nbformat_minor": 0,
  "metadata": {
    "colab": {
      "provenance": [],
      "gpuType": "T4"
    },
    "kernelspec": {
      "name": "python3",
      "display_name": "Python 3"
    },
    "language_info": {
      "name": "python"
    },
    "accelerator": "GPU"
  },
  "cells": [
    {
      "cell_type": "code",
      "execution_count": 8,
      "metadata": {
        "id": "_EJLoNrP29x9"
      },
      "outputs": [],
      "source": [
        "import os\n",
        "import cv2\n",
        "import numpy as np\n",
        "import pandas as pd\n",
        "import torch\n",
        "import torch.nn as nn\n",
        "import torch.optim as optim\n",
        "from torch.utils.data import Dataset, DataLoader, random_split\n",
        "from sklearn.metrics import accuracy_score, confusion_matrix"
      ]
    },
    {
      "cell_type": "code",
      "source": [
        "from google.colab import drive\n",
        "drive.mount('/content/drive')"
      ],
      "metadata": {
        "colab": {
          "base_uri": "https://localhost:8080/"
        },
        "id": "a6noPKjF5qlQ",
        "outputId": "cc5b8143-abfb-4084-bf0a-bc0ca788c700"
      },
      "execution_count": 2,
      "outputs": [
        {
          "output_type": "stream",
          "name": "stdout",
          "text": [
            "Mounted at /content/drive\n"
          ]
        }
      ]
    },
    {
      "cell_type": "code",
      "source": [
        "# 1. Load Test Data\n",
        "test_data = pd.read_csv(\"gesture_dataset.csv\")\n"
      ],
      "metadata": {
        "id": "xGaayGAP45GK"
      },
      "execution_count": 4,
      "outputs": []
    },
    {
      "cell_type": "code",
      "source": [
        "# Define Model Architecture\n",
        "class ArmGestureNet(nn.Module):\n",
        "    def __init__(self, input_size=18, num_classes=3):\n",
        "        super(ArmGestureNet, self).__init__()\n",
        "        self.fc1 = nn.Linear(input_size, 128)\n",
        "        self.fc2 = nn.Linear(128, 64)\n",
        "        self.fc3 = nn.Linear(64, num_classes)\n",
        "        self.dropout = nn.Dropout(0.4)\n",
        "        self.batchnorm = nn.BatchNorm1d(128)\n",
        "\n",
        "    def forward(self, x):\n",
        "        x = torch.relu(self.fc1(x))\n",
        "        x = self.batchnorm(x)\n",
        "        x = self.dropout(x)\n",
        "        x = torch.relu(self.fc2(x))\n",
        "        x = self.fc3(x)\n",
        "        return x"
      ],
      "metadata": {
        "id": "1jxWTQQ15DzR"
      },
      "execution_count": 7,
      "outputs": []
    },
    {
      "cell_type": "code",
      "source": [
        "# 2. Preprocessing Function\n",
        "def process_landmarks(landmark_str):\n",
        "    # Convert string representation to numpy array\n",
        "    landmarks = np.array(eval(landmark_str))\n",
        "\n",
        "    # Select relevant landmarks (indices 11-16: shoulders, elbows, wrists)\n",
        "    selected_indices = [11, 12, 13, 14, 15, 16]\n",
        "    selected_landmarks = landmarks[selected_indices]\n",
        "\n",
        "    # Flatten to 18-dimensional vector (6 landmarks × 3 coordinates)\n",
        "    return selected_landmarks.flatten()\n",
        "\n"
      ],
      "metadata": {
        "id": "njkLz6zO5ET-"
      },
      "execution_count": 9,
      "outputs": []
    },
    {
      "cell_type": "code",
      "source": [
        "# 3. Prepare Data\n",
        "X_test = np.array([process_landmarks(x) for x in test_data[\"landmarks\"]])\n",
        "y_test = test_data[\"gesture\"].map({\"left\": 0, \"right\": 1, \"stop\": 2}).values\n",
        "\n",
        "# Convert to PyTorch tensors\n",
        "X_test_tensor = torch.tensor(X_test, dtype=torch.float32)\n",
        "y_test_tensor = torch.tensor(y_test)\n"
      ],
      "metadata": {
        "id": "pNjYVQL8659P"
      },
      "execution_count": 10,
      "outputs": []
    },
    {
      "cell_type": "code",
      "source": [
        "\n",
        "# 4. Load Model\n",
        "model = ArmGestureNet(input_size=18)\n",
        "model.load_state_dict(torch.load(\"/content/drive/My Drive/Cmpt_419_Project/arm_gesture_landmark_model.pth\", map_location=torch.device(\"cpu\")))\n",
        "model.eval()\n",
        "\n"
      ],
      "metadata": {
        "colab": {
          "base_uri": "https://localhost:8080/"
        },
        "id": "Nq5qQ12G66Wq",
        "outputId": "e5267f00-e483-49a7-b272-924d94110797"
      },
      "execution_count": 12,
      "outputs": [
        {
          "output_type": "execute_result",
          "data": {
            "text/plain": [
              "ArmGestureNet(\n",
              "  (fc1): Linear(in_features=18, out_features=128, bias=True)\n",
              "  (fc2): Linear(in_features=128, out_features=64, bias=True)\n",
              "  (fc3): Linear(in_features=64, out_features=3, bias=True)\n",
              "  (dropout): Dropout(p=0.4, inplace=False)\n",
              "  (batchnorm): BatchNorm1d(128, eps=1e-05, momentum=0.1, affine=True, track_running_stats=True)\n",
              ")"
            ]
          },
          "metadata": {},
          "execution_count": 12
        }
      ]
    },
    {
      "cell_type": "code",
      "source": [
        "# 5. Make Predictions\n",
        "with torch.no_grad():\n",
        "    outputs = model(X_test_tensor)\n",
        "    probabilities = torch.softmax(outputs, dim=1)\n",
        "    confidences, predictions = torch.max(probabilities, 1)\n",
        "\n"
      ],
      "metadata": {
        "id": "TGQM_YWN66Za"
      },
      "execution_count": 13,
      "outputs": []
    },
    {
      "cell_type": "code",
      "source": [
        "# 6. Apply Confidence Threshold (0.9)\n",
        "confident_mask = confidences >= 0.9\n",
        "filtered_preds = predictions[confident_mask]\n",
        "filtered_true = y_test_tensor[confident_mask]\n",
        "\n"
      ],
      "metadata": {
        "id": "MYfJFuFF66cd"
      },
      "execution_count": 14,
      "outputs": []
    },
    {
      "cell_type": "code",
      "source": [
        "# 7. Calculate Metrics\n",
        "accuracy = accuracy_score(filtered_true, filtered_preds)\n",
        "cm = confusion_matrix(filtered_true, filtered_preds)\n",
        "\n",
        "print(f\"Accuracy (confident predictions): {accuracy:.2%}\")\n",
        "print(\"Confusion Matrix:\")\n",
        "print(cm)\n",
        "\n"
      ],
      "metadata": {
        "colab": {
          "base_uri": "https://localhost:8080/"
        },
        "id": "quumn4Pf7Gj1",
        "outputId": "8eeed8a8-baad-48b9-ab52-dfc455a6bbbb"
      },
      "execution_count": 15,
      "outputs": [
        {
          "output_type": "stream",
          "name": "stdout",
          "text": [
            "Accuracy (confident predictions): 100.00%\n",
            "Confusion Matrix:\n",
            "[[5 0 0]\n",
            " [0 9 0]\n",
            " [0 0 6]]\n"
          ]
        }
      ]
    },
    {
      "cell_type": "code",
      "source": [
        "# 8. Full Analysis\n",
        "all_preds = predictions.numpy()\n",
        "print(\"\\nFull dataset analysis:\")\n",
        "print(f\"Total samples: {len(y_test)}\")\n",
        "print(f\"Confident predictions: {confident_mask.sum().item()}/{len(y_test)}\")\n",
        "print(f\"Overall accuracy: {accuracy_score(y_test, all_preds):.2%}\")\n",
        "print(f\"Uncertain samples: {len(y_test) - confident_mask.sum().item()}\")"
      ],
      "metadata": {
        "colab": {
          "base_uri": "https://localhost:8080/"
        },
        "id": "ed-sDBWd7Gne",
        "outputId": "478e3275-ff13-477b-f84a-8fc2ba2bb72d"
      },
      "execution_count": 16,
      "outputs": [
        {
          "output_type": "stream",
          "name": "stdout",
          "text": [
            "\n",
            "Full dataset analysis:\n",
            "Total samples: 20\n",
            "Confident predictions: 20/20\n",
            "Overall accuracy: 100.00%\n",
            "Uncertain samples: 0\n"
          ]
        }
      ]
    },
    {
      "cell_type": "code",
      "source": [
        "import matplotlib.pyplot as plt\n",
        "import seaborn as sns\n",
        "\n",
        "# Plot confusion matrix\n",
        "plt.figure(figsize=(8,6))\n",
        "sns.heatmap(cm, annot=True, fmt='d',\n",
        "            xticklabels=[\"left\", \"right\", \"stop\"],\n",
        "            yticklabels=[\"left\", \"right\", \"stop\"])\n",
        "plt.xlabel(\"Predicted\")\n",
        "plt.ylabel(\"True\")\n",
        "plt.title(\"Confusion Matrix\")\n",
        "plt.show()"
      ],
      "metadata": {
        "colab": {
          "base_uri": "https://localhost:8080/",
          "height": 564
        },
        "id": "i_WPyHra-3AX",
        "outputId": "b6150b7b-c8eb-4840-e55c-ddc2862e9640"
      },
      "execution_count": 17,
      "outputs": [
        {
          "output_type": "display_data",
          "data": {
            "text/plain": [
              "<Figure size 800x600 with 2 Axes>"
            ],
            "image/png": "[encoded data removed]"
          },
          "metadata": {}
        }
      ]
    }
  ]
}