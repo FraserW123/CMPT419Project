{
  "cells": [
    {
      "cell_type": "code",
      "execution_count": 1,
      "metadata": {
        "id": "nSOmyJhyeqmi"
      },
      "outputs": [],
      "source": [
        "import pandas as pd\n",
        "from scipy import stats"
      ]
    },
    {
      "cell_type": "code",
      "execution_count": 2,
      "metadata": {
        "id": "c9xptHFjf2ev"
      },
      "outputs": [],
      "source": [
        "# Load the data from CSV content (replace this with your actual file path)\n",
        "data = pd.read_csv(\"results.csv\")"
      ]
    },
    {
      "cell_type": "code",
      "execution_count": 3,
      "metadata": {
        "id": "h15BhDw0f2n8"
      },
      "outputs": [],
      "source": [
        "# Extract the Q3 column (interactivity ratings)\n",
        "q3_data = data.iloc[:, 4].astype(float)  # Column index 4 (5th column)"
      ]
    },
    {
      "cell_type": "code",
      "execution_count": 7,
      "metadata": {},
      "outputs": [
        {
          "name": "stdout",
          "output_type": "stream",
          "text": [
            "Shapiro-Wilk p-value: 0.0021\n",
            "Warning: Data may not be normal. Consider Wilcoxon signed-rank test.\n",
            "Wilcoxon signed-rank p-value: 0.0530\n"
          ]
        }
      ],
      "source": [
        "interactivity = data ['When Pepper demonstrated the options/choices with arm gestures, did it make the story feel more interactive? (1: Not at all → 5: Extremely)'].dropna()\n",
        "\n",
        "# Shapiro-Wilk test\n",
        "shapiro_stat, shapiro_p = stats.shapiro(interactivity)\n",
        "print(f\"Shapiro-Wilk p-value: {shapiro_p:.4f}\")\n",
        "if shapiro_p < 0.05:\n",
        "    print(\"Warning: Data may not be normal. Consider Wilcoxon signed-rank test.\")\n",
        "else:\n",
        "    print(\"Data appears normally distributed.\")\n",
        "\n",
        "wilcoxon_stat, wilcoxon_p = stats.wilcoxon(interactivity - 3, alternative='greater')\n",
        "print(f\"Wilcoxon signed-rank p-value: {wilcoxon_p:.4f}\")"
      ]
    },
    {
      "cell_type": "code",
      "execution_count": 8,
      "metadata": {
        "id": "lFror9w9f2rS"
      },
      "outputs": [],
      "source": [
        "# Perform a one-sample t-test against μ=3 (one-tailed: check if mean > 3)\n",
        "t_stat, p_value = stats.ttest_1samp(q3_data, popmean=3, alternative=\"greater\")"
      ]
    },
    {
      "cell_type": "code",
      "execution_count": 9,
      "metadata": {
        "colab": {
          "base_uri": "https://localhost:8080/"
        },
        "id": "xe_z23S2f2u3",
        "outputId": "3c53a495-f35f-40a0-c127-1df5374e47cc"
      },
      "outputs": [
        {
          "name": "stdout",
          "output_type": "stream",
          "text": [
            "Sample Mean (Q3): 3.60\n",
            "t-statistic: 1.83\n",
            "One-tailed p-value: 0.041\n"
          ]
        }
      ],
      "source": [
        "# Output results\n",
        "print(f\"Sample Mean (Q3): {q3_data.mean():.2f}\")\n",
        "print(f\"t-statistic: {t_stat:.2f}\")\n",
        "print(f\"One-tailed p-value: {p_value:.3f}\")"
      ]
    },
    {
      "cell_type": "code",
      "execution_count": 10,
      "metadata": {
        "colab": {
          "base_uri": "https://localhost:8080/"
        },
        "id": "mD49cjNQf2xp",
        "outputId": "337bb25c-24c2-4304-a9f4-b3e45899b69f"
      },
      "outputs": [
        {
          "name": "stdout",
          "output_type": "stream",
          "text": [
            "Result: Reject H₀ (gestures significantly increase interactivity)\n"
          ]
        }
      ],
      "source": [
        "# Interpret results\n",
        "alpha = 0.05\n",
        "if p_value < alpha:\n",
        "    print(\"Result: Reject H₀ (gestures significantly increase interactivity)\")\n",
        "else:\n",
        "    print(\"Result: Fail to reject H₀ (no significant evidence)\")"
      ]
    }
  ],
  "metadata": {
    "colab": {
      "provenance": []
    },
    "kernelspec": {
      "display_name": "Python 3",
      "name": "python3"
    },
    "language_info": {
      "codemirror_mode": {
        "name": "ipython",
        "version": 3
      },
      "file_extension": ".py",
      "mimetype": "text/x-python",
      "name": "python",
      "nbconvert_exporter": "python",
      "pygments_lexer": "ipython3",
      "version": "3.10.12"
    }
  },
  "nbformat": 4,
  "nbformat_minor": 0
}
