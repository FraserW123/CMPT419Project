{
  "nbformat": 4,
  "nbformat_minor": 0,
  "metadata": {
    "colab": {
      "provenance": []
    },
    "kernelspec": {
      "name": "python3",
      "display_name": "Python 3"
    },
    "language_info": {
      "name": "python"
    }
  },
  "cells": [
    {
      "cell_type": "code",
      "execution_count": 1,
      "metadata": {
        "id": "nMpEWOg5tGv4"
      },
      "outputs": [],
      "source": [
        "import pandas as pd\n",
        "import scipy.stats as stats\n",
        "from statsmodels.stats.multicomp import pairwise_tukeyhsd"
      ]
    },
    {
      "cell_type": "code",
      "source": [
        "# Load data\n",
        "data = pd.read_csv(\"results.csv\")"
      ],
      "metadata": {
        "id": "d8JR0syBtP1Y"
      },
      "execution_count": 2,
      "outputs": []
    },
    {
      "cell_type": "code",
      "source": [
        "# Clean Q4: Drop rows with missing Q4 values\n",
        "data = data.dropna(subset=[\"Which type of scenes held your attention better? \"])\n",
        "q4_groups = data[\"Which type of scenes held your attention better? \"].unique()"
      ],
      "metadata": {
        "id": "savLbNEQtQG4"
      },
      "execution_count": 3,
      "outputs": []
    },
    {
      "cell_type": "code",
      "source": [
        "# Function to run ANOVA and post-hoc tests\n",
        "def run_anova_test(column_name):\n",
        "    # Extract data for each Q4 group\n",
        "    grouped_data = [data[data[\"Which type of scenes held your attention better? \"] == group][column_name].astype(float)\n",
        "                    for group in q4_groups]\n",
        "\n",
        "    # One-way ANOVA\n",
        "    f_stat, p_value = stats.f_oneway(*grouped_data)\n",
        "    print(f\"\\n--- ANOVA for {column_name} ---\")\n",
        "    print(f\"F-statistic: {f_stat:.2f}, p-value: {p_value:.4f}\")\n",
        "\n",
        "    # Post-hoc Tukey HSD test if ANOVA is significant\n",
        "    if p_value < 0.05:\n",
        "        posthoc = pairwise_tukeyhsd(data[column_name].astype(float),\n",
        "                               data[\"Which type of scenes held your attention better? \"])\n",
        "        print(posthoc)\n"
      ],
      "metadata": {
        "id": "rs0nUZ5etQJv"
      },
      "execution_count": 8,
      "outputs": []
    },
    {
      "cell_type": "code",
      "source": [
        "# Run tests for Q1 and Q5\n",
        "run_anova_test(\"How engaged were you during scenes that included Pepper’s arm gestures?  (1: Not engaged → 5: Highly engaged)\")\n",
        "run_anova_test(\"How did scenes with arm gestures compare to ones without, in making you feel immersed?\\n(1: Less immersive → 5: More immersive)\")"
      ],
      "metadata": {
        "colab": {
          "base_uri": "https://localhost:8080/"
        },
        "id": "JOEmjwxbtQNc",
        "outputId": "6b5c8934-3fed-4ad5-85f0-ae443b02322b"
      },
      "execution_count": 9,
      "outputs": [
        {
          "output_type": "stream",
          "name": "stdout",
          "text": [
            "\n",
            "--- ANOVA for How engaged were you during scenes that included Pepper’s arm gestures?  (1: Not engaged → 5: Highly engaged) ---\n",
            "F-statistic: 17.81, p-value: 0.0001\n",
            "                    Multiple Comparison of Means - Tukey HSD, FWER=0.05                    \n",
            "===========================================================================================\n",
            "         group1                     group2           meandiff p-adj   lower   upper  reject\n",
            "-------------------------------------------------------------------------------------------\n",
            "           No difference    Scenes with arm gestures   2.5333 0.0005  1.1759  3.8908   True\n",
            "           No difference Scenes without arm gestures   0.6667 0.5633 -0.9795  2.3128  False\n",
            "Scenes with arm gestures Scenes without arm gestures  -1.8667 0.0017 -3.0072 -0.7262   True\n",
            "-------------------------------------------------------------------------------------------\n",
            "\n",
            "--- ANOVA for How did scenes with arm gestures compare to ones without, in making you feel immersed?\n",
            "(1: Less immersive → 5: More immersive) ---\n",
            "F-statistic: 14.01, p-value: 0.0003\n",
            "                    Multiple Comparison of Means - Tukey HSD, FWER=0.05                    \n",
            "===========================================================================================\n",
            "         group1                     group2           meandiff p-adj   lower   upper  reject\n",
            "-------------------------------------------------------------------------------------------\n",
            "           No difference    Scenes with arm gestures      1.0 0.1806 -0.3788  2.3788  False\n",
            "           No difference Scenes without arm gestures  -1.3333 0.1316 -3.0054  0.3388  False\n",
            "Scenes with arm gestures Scenes without arm gestures  -2.3333 0.0002 -3.4918 -1.1749   True\n",
            "-------------------------------------------------------------------------------------------\n"
          ]
        }
      ]
    }
  ]
}